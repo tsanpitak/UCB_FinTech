{
 "cells": [
  {
   "cell_type": "code",
   "execution_count": 1,
   "metadata": {},
   "outputs": [],
   "source": [
    "from pathlib import Path\n",
    "import csv"
   ]
  },
  {
   "cell_type": "code",
   "execution_count": 18,
   "metadata": {},
   "outputs": [
    {
     "name": "stdout",
     "output_type": "stream",
     "text": [
      "\n",
      "Financial Analysis\n",
      "----------------------------\n",
      "Total Months: 86\n",
      "Total: $38,382,578.0\n",
      "Average  Change: $-2,315.12\n",
      "Greatest Increase in Profits: Feb-2012 ($1,926,159.0)\n",
      "Greatest Decrease in Profits: Sep-2013 ($-2,196,167.0)\n"
     ]
    }
   ],
   "source": [
    "prev_month = 0.0\n",
    "total_months = 0\n",
    "net_pl = 0.0\n",
    "delta = 0.0\n",
    "sum_of_deltas = 0.0\n",
    "average_delta = 0.0\n",
    "max_profits_delta = [\"\",0.0]\n",
    "max_losses_delta = [\"\",0.0]\n",
    "\n",
    "file_path = Path(r\"./Resources/budget_data.csv\")\n",
    "\n",
    "with open(file_path, 'r') as source:\n",
    "    # Read file\n",
    "    csv_reader = csv.reader(source, delimiter=\",\")\n",
    "    # Iterate past header\n",
    "    csv_header = next(csv_reader)\n",
    "    # Loop through the rest of the file to find max profit/losses deta\n",
    "    for month in csv_reader:\n",
    "        curr_month = float(month[1])\n",
    "        net_pl += curr_month\n",
    "        \n",
    "        #Skip for 1st month\n",
    "        if total_months != 0:\n",
    "            delta = curr_month - prev_month\n",
    "            sum_of_deltas += delta\n",
    "            if delta >= max_profits_delta[1]:\n",
    "                max_profits_delta = [month[0], delta]\n",
    "            if delta <= max_losses_delta[1]:\n",
    "                max_losses_delta = [month[0], delta]\n",
    "        \n",
    "        prev_month = curr_month\n",
    "        total_months += 1\n",
    "\n",
    "average_delta = round(sum_of_deltas / (total_months-1),2)\n",
    "\n",
    "print(\"\\nFinancial Analysis\")\n",
    "print(\"----------------------------\")\n",
    "print(f\"Total Months: {total_months:,}\")\n",
    "print(f\"Total: ${net_pl:,}\")\n",
    "print(f\"Average  Change: ${average_delta:,}\")\n",
    "print(f\"Greatest Increase in Profits: {max_profits_delta[0]} (${max_profits_delta[1]:,})\")\n",
    "print(f\"Greatest Decrease in Profits: {max_losses_delta[0]} (${max_losses_delta[1]:,})\")\n"
   ]
  },
  {
   "cell_type": "code",
   "execution_count": null,
   "metadata": {},
   "outputs": [],
   "source": []
  }
 ],
 "metadata": {
  "kernelspec": {
   "display_name": "Python 3",
   "language": "python",
   "name": "python3"
  },
  "language_info": {
   "codemirror_mode": {
    "name": "ipython",
    "version": 3
   },
   "file_extension": ".py",
   "mimetype": "text/x-python",
   "name": "python",
   "nbconvert_exporter": "python",
   "pygments_lexer": "ipython3",
   "version": "3.7.7"
  }
 },
 "nbformat": 4,
 "nbformat_minor": 4
}
