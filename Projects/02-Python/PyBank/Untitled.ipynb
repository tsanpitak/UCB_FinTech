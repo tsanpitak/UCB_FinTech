{
 "cells": [
  {
   "cell_type": "code",
   "execution_count": 5,
   "metadata": {},
   "outputs": [],
   "source": [
    "from pathlib import Path\n",
    "import csv"
   ]
  },
  {
   "cell_type": "code",
   "execution_count": 8,
   "metadata": {},
   "outputs": [
    {
     "ename": "SyntaxError",
     "evalue": "invalid syntax (<ipython-input-8-a08c5ca49f95>, line 30)",
     "output_type": "error",
     "traceback": [
      "\u001b[1;36m  File \u001b[1;32m\"<ipython-input-8-a08c5ca49f95>\"\u001b[1;36m, line \u001b[1;32m30\u001b[0m\n\u001b[1;33m    print(sum(sum_of_deltas[,1]))\u001b[0m\n\u001b[1;37m                            ^\u001b[0m\n\u001b[1;31mSyntaxError\u001b[0m\u001b[1;31m:\u001b[0m invalid syntax\n"
     ]
    }
   ],
   "source": [
    "prev_month = 0\n",
    "total_months = 0\n",
    "net_pl = 0\n",
    "delta = 0\n",
    "sum_of_deltas = []\n",
    "average_delta = 0.0\n",
    "max_profits_delta = [\"\",0]\n",
    "max_losses_delta = [\"\",0]\n",
    "\n",
    "file_path = Path(r\"./Resources/budget_data.csv\")\n",
    "\n",
    "with open(file_path, 'r') as source:\n",
    "    # Read file\n",
    "    csv_reader = csv.reader(source, delimiter=\",\")\n",
    "    # Iterate past header\n",
    "    csv_header = next(csv_reader)\n",
    "    # Loop through the rest of the file to find max profit/losses deta\n",
    "    for month in csv_reader:\n",
    "        curr_month = int(month[1])\n",
    "        net_pl += curr_month\n",
    "        \n",
    "        #Skip for 1st month\n",
    "        if total_months != 0:\n",
    "            delta = curr_month - prev_month\n",
    "            sum_of_deltas = [month[0], delta]\n",
    "        \n",
    "        prev_month = curr_month\n",
    "        total_months += 1\n"
   ]
  },
  {
   "cell_type": "code",
   "execution_count": null,
   "metadata": {},
   "outputs": [],
   "source": []
  }
 ],
 "metadata": {
  "kernelspec": {
   "display_name": "Python 3",
   "language": "python",
   "name": "python3"
  },
  "language_info": {
   "codemirror_mode": {
    "name": "ipython",
    "version": 3
   },
   "file_extension": ".py",
   "mimetype": "text/x-python",
   "name": "python",
   "nbconvert_exporter": "python",
   "pygments_lexer": "ipython3",
   "version": "3.7.7"
  }
 },
 "nbformat": 4,
 "nbformat_minor": 4
}
